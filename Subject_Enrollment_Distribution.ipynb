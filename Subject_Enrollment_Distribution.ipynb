{
  "nbformat": 4,
  "nbformat_minor": 0,
  "metadata": {
    "colab": {
      "provenance": [],
      "authorship_tag": "ABX9TyOUwa8esR777eQJJrzux2hA",
      "include_colab_link": true
    },
    "kernelspec": {
      "name": "python3",
      "display_name": "Python 3"
    },
    "language_info": {
      "name": "python"
    }
  },
  "cells": [
    {
      "cell_type": "markdown",
      "metadata": {
        "id": "view-in-github",
        "colab_type": "text"
      },
      "source": [
        "<a href=\"https://colab.research.google.com/github/achett/clinical_trial_simulation/blob/main/Subject_Enrollment_Distribution.ipynb\" target=\"_parent\"><img src=\"https://colab.research.google.com/assets/colab-badge.svg\" alt=\"Open In Colab\"/></a>"
      ]
    },
    {
      "cell_type": "code",
      "execution_count": 5,
      "metadata": {
        "id": "2MOeGJlNq980",
        "colab": {
          "base_uri": "https://localhost:8080/"
        },
        "outputId": "f2415e7c-f8cc-464d-ef30-d22d83364839"
      },
      "outputs": [
        {
          "output_type": "stream",
          "name": "stdout",
          "text": [
            "norm\n",
            "0.4393411276648072\n",
            "(116.09264856917414, 760.2183426451379)\n",
            "expon\n",
            "0.465848293751447\n",
            "(0.052994171, 116.03965439817415)\n",
            "lognorm\n",
            "0.041777491941284994\n",
            "(1.657318447888736, 0.009619759326080623, 15.586945272016816)\n",
            "weibull_min\n",
            "0.15784131324068185\n",
            "(0.5352683087529577, 0.05299417099999999, 47.64165527033708)\n"
          ]
        },
        {
          "output_type": "stream",
          "name": "stderr",
          "text": [
            "/usr/local/lib/python3.10/dist-packages/scipy/stats/_continuous_distns.py:719: RuntimeWarning: invalid value encountered in sqrt\n",
            "  sk = 2*(b-a)*np.sqrt(a + b + 1) / (a + b + 2) / np.sqrt(a*b)\n",
            "/usr/local/lib/python3.10/dist-packages/scipy/optimize/_minpack_py.py:177: RuntimeWarning: The iteration is not making good progress, as measured by the \n",
            "  improvement from the last ten iterations.\n",
            "  warnings.warn(msg, RuntimeWarning)\n"
          ]
        },
        {
          "output_type": "stream",
          "name": "stdout",
          "text": [
            "beta\n",
            "0.13584780184156542\n",
            "(0.46988354657754916, 549.4574129949324, 0.05299417099999999, 62292.99106369796)\n"
          ]
        },
        {
          "output_type": "execute_result",
          "data": {
            "text/plain": [
              "('lognorm',\n",
              " (1.657318447888736, 0.009619759326080623, 15.586945272016816),\n",
              " 0.041777491941284994)"
            ]
          },
          "metadata": {},
          "execution_count": 5
        }
      ],
      "source": [
        "##############\n",
        "# FIND DISTRUTION FOR PTS/SITE/MONTH\n",
        "##############\n",
        "import pandas as pd\n",
        "import numpy as np\n",
        "from scipy import stats\n",
        "from scipy.stats import poisson\n",
        "import matplotlib.pyplot as plt\n",
        "\n",
        "\n",
        "file_path = '/content/patient_enrollment_data2.csv'\n",
        "pe_data = pd.read_csv(file_path)\n",
        "\n",
        "sample = pe_data['Subjects Per Month'].to_numpy()\n",
        "\n",
        "# Now let's fit some common distributions to the sample data\n",
        "# We will use the scipy library to fit the distributions to our data\n",
        "\n",
        "# Define the distributions to test\n",
        "distributions = [stats.norm, stats.expon, stats.lognorm, stats.weibull_min, stats.beta]\n",
        "\n",
        "# Store the name and parameters of the best fitting distribution\n",
        "best_distribution_name = None\n",
        "best_fit_params = None\n",
        "best_fit_distribution = None\n",
        "best_ks_statistic = np.inf\n",
        "\n",
        "# Loop through candidate distributions\n",
        "for distribution in distributions:\n",
        "    # Try to fit the distribution\n",
        "    try:\n",
        "        # Fit distribution to data\n",
        "        params = distribution.fit(sample)\n",
        "\n",
        "        # Separate parts of parameters\n",
        "        arg = params[:-2]\n",
        "        loc = params[-2]\n",
        "        scale = params[-1]\n",
        "\n",
        "        # Calculate Kolmogorov-Smirnov test for goodness of fit\n",
        "        ks_statistic, p_value = stats.kstest(sample, distribution.name, args=params)\n",
        "        print(distribution.name)\n",
        "        print(ks_statistic)\n",
        "        print(params)\n",
        "        # If the KS statistic is smaller, update the best fitting distribution\n",
        "        if ks_statistic < best_ks_statistic:\n",
        "            best_ks_statistic = ks_statistic\n",
        "            best_distribution_name = distribution.name\n",
        "            best_fit_params = params\n",
        "            best_fit_distribution = distribution\n",
        "    except Exception as e:\n",
        "        print(f\"Error in fitting {distribution.name}: {e}\")\n",
        "        continue\n",
        "\n",
        "# Output the results\n",
        "best_distribution_name, best_fit_params, best_ks_statistic\n"
      ]
    }
  ]
}