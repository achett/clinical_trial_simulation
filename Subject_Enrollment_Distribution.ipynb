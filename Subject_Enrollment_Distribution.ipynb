{
  "nbformat": 4,
  "nbformat_minor": 0,
  "metadata": {
    "colab": {
      "provenance": [],
      "authorship_tag": "ABX9TyPtCIgm4zCypXzXDqrgvMee",
      "include_colab_link": true
    },
    "kernelspec": {
      "name": "python3",
      "display_name": "Python 3"
    },
    "language_info": {
      "name": "python"
    }
  },
  "cells": [
    {
      "cell_type": "markdown",
      "metadata": {
        "id": "view-in-github",
        "colab_type": "text"
      },
      "source": [
        "<a href=\"https://colab.research.google.com/github/achett/clinical_trial_simulation/blob/main/Subject_Enrollment_Distribution.ipynb\" target=\"_parent\"><img src=\"https://colab.research.google.com/assets/colab-badge.svg\" alt=\"Open In Colab\"/></a>"
      ]
    },
    {
      "cell_type": "code",
      "execution_count": null,
      "metadata": {
        "id": "2MOeGJlNq980"
      },
      "outputs": [],
      "source": [
        "##############\n",
        "# FIND DISTRUTION FOR PTS/SITE/MONTH\n",
        "##############\n",
        "import pandas as pd\n",
        "import numpy as np\n",
        "from scipy import stats\n",
        "from scipy.stats import poisson\n",
        "import matplotlib.pyplot as plt\n",
        "\n",
        "\n",
        "file_path = '/content/patient_enrollment_data2.csv'\n",
        "pe_data = pd.read_csv(file_path)\n",
        "\n",
        "sample = pe_data['Subjects Per Month'].to_numpy()\n",
        "\n",
        "# Now let's fit some common distributions to the sample data\n",
        "# We will use the scipy library to fit the distributions to our data\n",
        "\n",
        "# Define the distributions to test\n",
        "distributions = [stats.norm, stats.expon, stats.lognorm, stats.weibull_min, stats.beta]\n",
        "\n",
        "# Store the name and parameters of the best fitting distribution\n",
        "best_distribution_name = None\n",
        "best_fit_params = None\n",
        "best_fit_distribution = None\n",
        "best_ks_statistic = np.inf\n",
        "\n",
        "# Loop through candidate distributions\n",
        "for distribution in distributions:\n",
        "    # Try to fit the distribution\n",
        "    try:\n",
        "        # Fit distribution to data\n",
        "        params = distribution.fit(sample)\n",
        "\n",
        "        # Separate parts of parameters\n",
        "        arg = params[:-2]\n",
        "        loc = params[-2]\n",
        "        scale = params[-1]\n",
        "\n",
        "        # Calculate Kolmogorov-Smirnov test for goodness of fit\n",
        "        ks_statistic, p_value = stats.kstest(sample, distribution.name, args=params)\n",
        "        print(distribution.name)\n",
        "        print(ks_statistic)\n",
        "        # If the KS statistic is smaller, update the best fitting distribution\n",
        "        if ks_statistic < best_ks_statistic:\n",
        "            best_ks_statistic = ks_statistic\n",
        "            best_distribution_name = distribution.name\n",
        "            best_fit_params = params\n",
        "            best_fit_distribution = distribution\n",
        "    except Exception as e:\n",
        "        print(f\"Error in fitting {distribution.name}: {e}\")\n",
        "        continue\n",
        "\n",
        "# Output the results\n",
        "best_distribution_name, best_fit_params, best_ks_statistic\n"
      ]
    }
  ]
}